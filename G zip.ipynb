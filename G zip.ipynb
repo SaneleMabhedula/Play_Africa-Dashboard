{
 "cells": [
  {
   "cell_type": "code",
   "execution_count": 1,
   "metadata": {},
   "outputs": [
    {
     "name": "stdout",
     "output_type": "stream",
     "text": [
      "Original Data: {'users': [{'id': 1, 'name': 'Sethu', 'email': 'Sethu@example.com', 'isActive': True}, {'id': 2, 'name': 'Sanele', 'email': 'Sanele@example.com', 'isActive': False}, {'id': 3, 'name': 'Sanelesethu', 'email': 'Sane@example.com', 'isActive': True}], 'settings': {'theme': 'dark', 'notifications': {'email': True, 'sms': False}}}\n",
      "JSON file compressed to example.json.gz\n",
      "Compressed file decompressed to example_unzipped.json\n"
     ]
    }
   ],
   "source": [
    "import json\n",
    "import gzip\n",
    "import shutil\n",
    "import pandas as pd\n",
    "\n",
    "# Read JSON file and load it into a Python object\n",
    "with open(\"example.json\", \"r\") as file:\n",
    "    data = json.load(file)\n",
    "\n",
    "# Display the data to verify it's correct\n",
    "print(\"Original Data:\", data)\n",
    "\n",
    "# Compress the JSON file\n",
    "with open(\"example.json\", \"rb\") as f_in:\n",
    "    with gzip.open(\"example.json.gz\", \"wb\") as f_out:\n",
    "        shutil.copyfileobj(f_in, f_out)\n",
    "\n",
    "print(\"JSON file compressed to example.json.gz\")\n",
    "\n",
    "# Decompress the JSON file\n",
    "with gzip.open(\"example.json.gz\", \"rb\") as f_in:\n",
    "    with open(\"example_unzipped.json\", \"wb\") as f_out:\n",
    "        shutil.copyfileobj(f_in, f_out)\n",
    "\n",
    "print(\"Compressed file decompressed to example_unzipped.json\")\n"
   ]
  },
  {
   "cell_type": "code",
   "execution_count": 2,
   "metadata": {},
   "outputs": [],
   "source": [
    "import gzip\n",
    "import shutil\n",
    "\n",
    "with gzip.open(\"example.json.gz\", \"rb\") as f_in:\n",
    "    with open(\"example_unzipped.json\", \"wb\") as f_out:\n",
    "        shutil.copyfileobj(f_in, f_out)\n"
   ]
  },
  {
   "cell_type": "code",
   "execution_count": null,
   "metadata": {},
   "outputs": [],
   "source": []
  },
  {
   "cell_type": "code",
   "execution_count": 3,
   "metadata": {},
   "outputs": [
    {
     "name": "stdout",
     "output_type": "stream",
     "text": [
      "Compressed file decompressed to example_unzipped.json\n"
     ]
    }
   ],
   "source": [
    "print(\"Compressed file decompressed to example_unzipped.json\")"
   ]
  },
  {
   "cell_type": "code",
   "execution_count": 5,
   "metadata": {},
   "outputs": [],
   "source": [
    "with gzip.open(\"example.json.gz\", \"r\") as f:\n",
    "    buya = json.load(f)"
   ]
  },
  {
   "cell_type": "code",
   "execution_count": 15,
   "metadata": {},
   "outputs": [
    {
     "data": {
      "text/plain": [
       "dict_keys(['users', 'settings'])"
      ]
     },
     "execution_count": 15,
     "metadata": {},
     "output_type": "execute_result"
    }
   ],
   "source": [
    "buya.keys()"
   ]
  },
  {
   "cell_type": "code",
   "execution_count": 13,
   "metadata": {},
   "outputs": [
    {
     "data": {
      "text/html": [
       "<div>\n",
       "<style scoped>\n",
       "    .dataframe tbody tr th:only-of-type {\n",
       "        vertical-align: middle;\n",
       "    }\n",
       "\n",
       "    .dataframe tbody tr th {\n",
       "        vertical-align: top;\n",
       "    }\n",
       "\n",
       "    .dataframe thead th {\n",
       "        text-align: right;\n",
       "    }\n",
       "</style>\n",
       "<table border=\"1\" class=\"dataframe\">\n",
       "  <thead>\n",
       "    <tr style=\"text-align: right;\">\n",
       "      <th></th>\n",
       "      <th>id</th>\n",
       "      <th>name</th>\n",
       "      <th>email</th>\n",
       "      <th>isActive</th>\n",
       "    </tr>\n",
       "  </thead>\n",
       "  <tbody>\n",
       "    <tr>\n",
       "      <th>0</th>\n",
       "      <td>1</td>\n",
       "      <td>Sethu</td>\n",
       "      <td>Sethu@example.com</td>\n",
       "      <td>True</td>\n",
       "    </tr>\n",
       "    <tr>\n",
       "      <th>1</th>\n",
       "      <td>2</td>\n",
       "      <td>Sanele</td>\n",
       "      <td>Sanele@example.com</td>\n",
       "      <td>False</td>\n",
       "    </tr>\n",
       "    <tr>\n",
       "      <th>2</th>\n",
       "      <td>3</td>\n",
       "      <td>Sanelesethu</td>\n",
       "      <td>Sane@example.com</td>\n",
       "      <td>True</td>\n",
       "    </tr>\n",
       "  </tbody>\n",
       "</table>\n",
       "</div>"
      ],
      "text/plain": [
       "   id         name               email  isActive\n",
       "0   1        Sethu   Sethu@example.com      True\n",
       "1   2       Sanele  Sanele@example.com     False\n",
       "2   3  Sanelesethu    Sane@example.com      True"
      ]
     },
     "execution_count": 13,
     "metadata": {},
     "output_type": "execute_result"
    }
   ],
   "source": [
    "cv = pd.DataFrame().from_dict(buya[\"users\"])\n",
    "cv"
   ]
  },
  {
   "cell_type": "code",
   "execution_count": null,
   "metadata": {},
   "outputs": [],
   "source": []
  }
 ],
 "metadata": {
  "kernelspec": {
   "display_name": "Python 3",
   "language": "python",
   "name": "python3"
  },
  "language_info": {
   "codemirror_mode": {
    "name": "ipython",
    "version": 3
   },
   "file_extension": ".py",
   "mimetype": "text/x-python",
   "name": "python",
   "nbconvert_exporter": "python",
   "pygments_lexer": "ipython3",
   "version": "3.12.7"
  }
 },
 "nbformat": 4,
 "nbformat_minor": 2
}
