{
 "cells": [
  {
   "cell_type": "code",
   "execution_count": 1,
   "metadata": {},
   "outputs": [
    {
     "name": "stdout",
     "output_type": "stream",
     "text": [
      "hello world\n"
     ]
    }
   ],
   "source": [
    "print(\"hello world\")"
   ]
  },
  {
   "cell_type": "markdown",
   "metadata": {},
   "source": [
    "## **I love Sethu**"
   ]
  },
  {
   "cell_type": "code",
   "execution_count": 2,
   "metadata": {},
   "outputs": [],
   "source": [
    "import json\n",
    "import pandas as pd"
   ]
  },
  {
   "cell_type": "code",
   "execution_count": 3,
   "metadata": {},
   "outputs": [
    {
     "name": "stdout",
     "output_type": "stream",
     "text": [
      "{\n",
      "    \"Girlfriend\" : \"Siphosethu\",\n",
      "    \"Age\" : 23,\n",
      "    \"hobby\" : \"coding\",\n",
      "    \"Profession\" : \"Facilitator\"\n",
      "}\n"
     ]
    }
   ],
   "source": [
    "\n",
    "\n",
    "lobby = \"\"\"{\n",
    "    \"Girlfriend\" : \"Siphosethu\",\n",
    "    \"Age\" : 23,\n",
    "    \"hobby\" : \"coding\",\n",
    "    \"Profession\" : \"Facilitator\"\n",
    "}\"\"\"\n",
    "\n",
    "print(lobby)"
   ]
  },
  {
   "cell_type": "code",
   "execution_count": 4,
   "metadata": {},
   "outputs": [
    {
     "name": "stdout",
     "output_type": "stream",
     "text": [
      "{'Girlfriend': 'Siphosethu', 'Age': 23, 'hobby': 'coding', 'Profession': 'Facilitator'}\n"
     ]
    }
   ],
   "source": [
    "# Load JSON string into a dictionary\n",
    "dict_data = json.loads(lobby)\n",
    "print(dict_data)"
   ]
  },
  {
   "cell_type": "code",
   "execution_count": 5,
   "metadata": {},
   "outputs": [
    {
     "name": "stdout",
     "output_type": "stream",
     "text": [
      "{'Girlfriend': 'Siphosethu', 'Age': 23, 'hobby': 'coding', 'Profession': 'Facilitator'}\n"
     ]
    }
   ],
   "source": [
    "Bingo = {\n",
    "    \"Girlfriend\" : \"Siphosethu\",\n",
    "    \"Age\" : 23,\n",
    "    \"hobby\" : \"coding\",\n",
    "    \"Profession\" : \"Facilitator\" }\n",
    "print(Bingo)"
   ]
  },
  {
   "cell_type": "code",
   "execution_count": 6,
   "metadata": {},
   "outputs": [
    {
     "data": {
      "text/plain": [
       "dict_keys(['Girlfriend', 'Age', 'hobby', 'Profession'])"
      ]
     },
     "execution_count": 6,
     "metadata": {},
     "output_type": "execute_result"
    }
   ],
   "source": [
    "Bingo.keys()"
   ]
  },
  {
   "cell_type": "code",
   "execution_count": null,
   "metadata": {},
   "outputs": [
    {
     "data": {
      "text/html": [
       "<div>\n",
       "<style scoped>\n",
       "    .dataframe tbody tr th:only-of-type {\n",
       "        vertical-align: middle;\n",
       "    }\n",
       "\n",
       "    .dataframe tbody tr th {\n",
       "        vertical-align: top;\n",
       "    }\n",
       "\n",
       "    .dataframe thead th {\n",
       "        text-align: right;\n",
       "    }\n",
       "</style>\n",
       "<table border=\"1\" class=\"dataframe\">\n",
       "  <thead>\n",
       "    <tr style=\"text-align: right;\">\n",
       "      <th></th>\n",
       "      <th>Sanele info</th>\n",
       "    </tr>\n",
       "  </thead>\n",
       "  <tbody>\n",
       "    <tr>\n",
       "      <th>Girlfriend</th>\n",
       "      <td>Siphosethu</td>\n",
       "    </tr>\n",
       "    <tr>\n",
       "      <th>Age</th>\n",
       "      <td>23</td>\n",
       "    </tr>\n",
       "    <tr>\n",
       "      <th>hobby</th>\n",
       "      <td>coding</td>\n",
       "    </tr>\n",
       "    <tr>\n",
       "      <th>Profession</th>\n",
       "      <td>Facilitator</td>\n",
       "    </tr>\n",
       "  </tbody>\n",
       "</table>\n",
       "</div>"
      ],
      "text/plain": [
       "            Sanele info\n",
       "Girlfriend   Siphosethu\n",
       "Age                  23\n",
       "hobby            coding\n",
       "Profession  Facilitator"
      ]
     },
     "execution_count": 7,
     "metadata": {},
     "output_type": "execute_result"
    },
    {
     "ename": "",
     "evalue": "",
     "output_type": "error",
     "traceback": [
      "\u001b[1;31mThe Kernel crashed while executing code in the current cell or a previous cell. \n",
      "\u001b[1;31mPlease review the code in the cell(s) to identify a possible cause of the failure. \n",
      "\u001b[1;31mClick <a href='https://aka.ms/vscodeJupyterKernelCrash'>here</a> for more info. \n",
      "\u001b[1;31mView Jupyter <a href='command:jupyter.viewOutput'>log</a> for further details."
     ]
    }
   ],
   "source": [
    "# Convert the dictionary into a DataFrame\n",
    "df = pd.DataFrame.from_dict(Bingo, orient= \"index\", columns= ['Sanele info'])  # Wrap the dictionary in a list\n",
    "df\n"
   ]
  },
  {
   "cell_type": "code",
   "execution_count": 6,
   "metadata": {},
   "outputs": [
    {
     "name": "stdout",
     "output_type": "stream",
     "text": [
      "{'Zuko': ['63', '61.1'], 'Njinji': ['49', '58']}\n"
     ]
    }
   ],
   "source": [
    "info = \"\"\"{\n",
    "\"Zuko\" : [\"63\", \"61.1\"],\n",
    "\"Njinji\" : [\"49\", \"58\"]\n",
    "}\"\"\"\n",
    "\n",
    "gm = json.loads(info)\n",
    "print(gm)"
   ]
  },
  {
   "cell_type": "code",
   "execution_count": 7,
   "metadata": {},
   "outputs": [
    {
     "data": {
      "text/html": [
       "<div>\n",
       "<style scoped>\n",
       "    .dataframe tbody tr th:only-of-type {\n",
       "        vertical-align: middle;\n",
       "    }\n",
       "\n",
       "    .dataframe tbody tr th {\n",
       "        vertical-align: top;\n",
       "    }\n",
       "\n",
       "    .dataframe thead th {\n",
       "        text-align: right;\n",
       "    }\n",
       "</style>\n",
       "<table border=\"1\" class=\"dataframe\">\n",
       "  <thead>\n",
       "    <tr style=\"text-align: right;\">\n",
       "      <th></th>\n",
       "      <th>Mass</th>\n",
       "      <th>Height</th>\n",
       "    </tr>\n",
       "  </thead>\n",
       "  <tbody>\n",
       "    <tr>\n",
       "      <th>Zuko</th>\n",
       "      <td>63</td>\n",
       "      <td>61.1</td>\n",
       "    </tr>\n",
       "    <tr>\n",
       "      <th>Njinji</th>\n",
       "      <td>49</td>\n",
       "      <td>58</td>\n",
       "    </tr>\n",
       "  </tbody>\n",
       "</table>\n",
       "</div>"
      ],
      "text/plain": [
       "       Mass Height\n",
       "Zuko     63   61.1\n",
       "Njinji   49     58"
      ]
     },
     "execution_count": 7,
     "metadata": {},
     "output_type": "execute_result"
    }
   ],
   "source": [
    "\n",
    "\n",
    "\n",
    "np = pd.DataFrame.from_dict(gm, orient= \"index\", columns=[\"Mass\", \"Height\"])\n",
    "np"
   ]
  },
  {
   "cell_type": "code",
   "execution_count": 8,
   "metadata": {},
   "outputs": [
    {
     "name": "stdout",
     "output_type": "stream",
     "text": [
      "{'Uzzi': ['Blue', 'S', 'Uni'], 'Nike': ['Black', 'M', 'Male'], 'Adidas': ['Navyblue', 'L', 'Female']}\n"
     ]
    },
    {
     "data": {
      "text/html": [
       "<div>\n",
       "<style scoped>\n",
       "    .dataframe tbody tr th:only-of-type {\n",
       "        vertical-align: middle;\n",
       "    }\n",
       "\n",
       "    .dataframe tbody tr th {\n",
       "        vertical-align: top;\n",
       "    }\n",
       "\n",
       "    .dataframe thead th {\n",
       "        text-align: right;\n",
       "    }\n",
       "</style>\n",
       "<table border=\"1\" class=\"dataframe\">\n",
       "  <thead>\n",
       "    <tr style=\"text-align: right;\">\n",
       "      <th></th>\n",
       "      <th>Color</th>\n",
       "      <th>Size</th>\n",
       "      <th>Gender</th>\n",
       "    </tr>\n",
       "  </thead>\n",
       "  <tbody>\n",
       "    <tr>\n",
       "      <th>Uzzi</th>\n",
       "      <td>Blue</td>\n",
       "      <td>S</td>\n",
       "      <td>Uni</td>\n",
       "    </tr>\n",
       "    <tr>\n",
       "      <th>Nike</th>\n",
       "      <td>Black</td>\n",
       "      <td>M</td>\n",
       "      <td>Male</td>\n",
       "    </tr>\n",
       "    <tr>\n",
       "      <th>Adidas</th>\n",
       "      <td>Navyblue</td>\n",
       "      <td>L</td>\n",
       "      <td>Female</td>\n",
       "    </tr>\n",
       "  </tbody>\n",
       "</table>\n",
       "</div>"
      ],
      "text/plain": [
       "           Color Size  Gender\n",
       "Uzzi        Blue    S     Uni\n",
       "Nike       Black    M    Male\n",
       "Adidas  Navyblue    L  Female"
      ]
     },
     "execution_count": 8,
     "metadata": {},
     "output_type": "execute_result"
    }
   ],
   "source": [
    "ulwazi = \"\"\"{\n",
    "\"Uzzi\" : [\"Blue\", \"S\", \"Uni\"],\n",
    "\"Nike\" : [\"Black\", \"M\", \"Male\"],\n",
    "\"Adidas\" : [\"Navyblue\",\"L\", \"Female\"]\n",
    "\n",
    "}\"\"\"\n",
    "\n",
    "ekhaya = json.loads(ulwazi)\n",
    "print(ekhaya)\n",
    "\n",
    "last = pd.DataFrame.from_dict(ekhaya, orient= \"index\", columns=[\"Color\", \"Size\", \"Gender\"])\n",
    "last"
   ]
  },
  {
   "cell_type": "code",
   "execution_count": 9,
   "metadata": {},
   "outputs": [],
   "source": [
    "import pickle\n",
    "\n",
    "with open(\"Age.pkl\", \"rb\") as f:\n",
    "    tt = pickle.load(f)"
   ]
  },
  {
   "cell_type": "code",
   "execution_count": 10,
   "metadata": {},
   "outputs": [
    {
     "data": {
      "text/plain": [
       "{'Uzzi': ['Black', 'L'], 'Adidas': ['Red', 'S']}"
      ]
     },
     "execution_count": 10,
     "metadata": {},
     "output_type": "execute_result"
    }
   ],
   "source": [
    "tt"
   ]
  },
  {
   "cell_type": "code",
   "execution_count": 9,
   "metadata": {},
   "outputs": [
    {
     "name": "stdout",
     "output_type": "stream",
     "text": [
      "Group A CTR: 0.1500\n",
      "Group B CTR: 0.2000\n",
      "Z-statistic: -2.9424\n",
      "P-value: 0.0033\n",
      "Reject the null hypothesis: There is a statistically significant difference between Group A and Group B.\n"
     ]
    }
   ],
   "source": [
    "import numpy as np\n",
    "import pandas as pd\n",
    "from scipy import stats\n",
    "\n",
    "# Data for Group A and Group B\n",
    "group_a_clicks = 150  # Number of clicks in Group A\n",
    "group_a_visitors = 1000  # Total visitors in Group A\n",
    "\n",
    "group_b_clicks = 200  # Number of clicks in Group B\n",
    "group_b_visitors = 1000  # Total visitors in Group B\n",
    "\n",
    "# Calculate Click-Through Rate (CTR) for both groups\n",
    "ctr_a = group_a_clicks / group_a_visitors\n",
    "ctr_b = group_b_clicks / group_b_visitors\n",
    "\n",
    "# Print CTR results\n",
    "print(f\"Group A CTR: {ctr_a:.4f}\")\n",
    "print(f\"Group B CTR: {ctr_b:.4f}\")\n",
    "\n",
    "# Perform a two-proportion z-test to check if the difference is statistically significant\n",
    "# H0: p_A = p_B (No difference in CTR)\n",
    "# H1: p_A != p_B (There is a difference in CTR)\n",
    "\n",
    "# Calculate the pooled probability\n",
    "pooled_p = (group_a_clicks + group_b_clicks) / (group_a_visitors + group_b_visitors)\n",
    "\n",
    "# Calculate the z-statistic\n",
    "z = (ctr_a - ctr_b) / np.sqrt(pooled_p * (1 - pooled_p) * (1/group_a_visitors + 1/group_b_visitors))\n",
    "\n",
    "# Calculate the p-value\n",
    "p_value = stats.norm.sf(abs(z)) * 2  # Two-tailed test\n",
    "\n",
    "# Print the z-statistic and p-value\n",
    "print(f\"Z-statistic: {z:.4f}\")\n",
    "print(f\"P-value: {p_value:.4f}\")\n",
    "\n",
    "# Conclusion based on p-value\n",
    "alpha = 0.05  # significance level\n",
    "if p_value < alpha:\n",
    "    print(\"Reject the null hypothesis: There is a statistically significant difference between Group A and Group B.\")\n",
    "else:\n",
    "    print(\"Fail to reject the null hypothesis: No statistically significant difference between Group A and Group B.\")\n"
   ]
  },
  {
   "cell_type": "code",
   "execution_count": null,
   "metadata": {},
   "outputs": [],
   "source": []
  }
 ],
 "metadata": {
  "kernelspec": {
   "display_name": "Python 3",
   "language": "python",
   "name": "python3"
  },
  "language_info": {
   "codemirror_mode": {
    "name": "ipython",
    "version": 3
   },
   "file_extension": ".py",
   "mimetype": "text/x-python",
   "name": "python",
   "nbconvert_exporter": "python",
   "pygments_lexer": "ipython3",
   "version": "3.12.7"
  }
 },
 "nbformat": 4,
 "nbformat_minor": 2
}
