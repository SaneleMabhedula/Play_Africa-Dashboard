{
 "cells": [
  {
   "cell_type": "markdown",
   "metadata": {},
   "source": [
    "## **Masiqale kwi list siyoqhina kwi zip**"
   ]
  },
  {
   "cell_type": "code",
   "execution_count": null,
   "metadata": {},
   "outputs": [],
   "source": [
    "Area_pms = [243, 233, 140, 230]\n",
    "\n",
    "price_ZAR = [140000, 130000,56000,138000]\n",
    "\n",
    "Area_pms.append(215)\n",
    "price_ZAR.append(100000)\n",
    "\n",
    "x = zip(Area_pms, price_ZAR)\n",
    "y = list(x)\n",
    "\n",
    "print(y)"
   ]
  },
  {
   "cell_type": "code",
   "execution_count": null,
   "metadata": {},
   "outputs": [],
   "source": [
    "for z in y:\n",
    "    print(z)"
   ]
  },
  {
   "cell_type": "code",
   "execution_count": null,
   "metadata": {},
   "outputs": [],
   "source": [
    "ave_price_ZAR = sum(price_ZAR)/len(price_ZAR)\n",
    "print(ave_price_ZAR)"
   ]
  },
  {
   "cell_type": "code",
   "execution_count": 23,
   "metadata": {},
   "outputs": [
    {
     "data": {
      "text/html": [
       "<div>\n",
       "<style scoped>\n",
       "    .dataframe tbody tr th:only-of-type {\n",
       "        vertical-align: middle;\n",
       "    }\n",
       "\n",
       "    .dataframe tbody tr th {\n",
       "        vertical-align: top;\n",
       "    }\n",
       "\n",
       "    .dataframe thead th {\n",
       "        text-align: right;\n",
       "    }\n",
       "</style>\n",
       "<table border=\"1\" class=\"dataframe\">\n",
       "  <thead>\n",
       "    <tr style=\"text-align: right;\">\n",
       "      <th></th>\n",
       "      <th>Name</th>\n",
       "      <th>Surname</th>\n",
       "      <th>Id</th>\n",
       "      <th>Age</th>\n",
       "    </tr>\n",
       "  </thead>\n",
       "  <tbody>\n",
       "    <tr>\n",
       "      <th>Student 1</th>\n",
       "      <td>Nkqo</td>\n",
       "      <td>Mpepho</td>\n",
       "      <td>NM92</td>\n",
       "      <td>33</td>\n",
       "    </tr>\n",
       "    <tr>\n",
       "      <th>student 2</th>\n",
       "      <td>Mapece</td>\n",
       "      <td>Ngembezi</td>\n",
       "      <td>MN85</td>\n",
       "      <td>40</td>\n",
       "    </tr>\n",
       "    <tr>\n",
       "      <th>student 3</th>\n",
       "      <td>NKunku</td>\n",
       "      <td>Naartjie</td>\n",
       "      <td>NN95</td>\n",
       "      <td>30</td>\n",
       "    </tr>\n",
       "    <tr>\n",
       "      <th>student 4</th>\n",
       "      <td>Amen</td>\n",
       "      <td>Bethlehem</td>\n",
       "      <td>AB94</td>\n",
       "      <td>31</td>\n",
       "    </tr>\n",
       "  </tbody>\n",
       "</table>\n",
       "</div>"
      ],
      "text/plain": [
       "             Name    Surname    Id  Age\n",
       "Student 1    Nkqo     Mpepho  NM92   33\n",
       "student 2  Mapece   Ngembezi  MN85   40\n",
       "student 3  NKunku   Naartjie  NN95   30\n",
       "student 4    Amen  Bethlehem  AB94   31"
      ]
     },
     "execution_count": 23,
     "metadata": {},
     "output_type": "execute_result"
    }
   ],
   "source": [
    "import json\n",
    "import pandas as pd\n",
    "\n",
    "failed_students = \"\"\"{\n",
    "\"Student 1\" : [ \"Nkqo\", \"Mpepho\", \"NM92\", 33 ],\n",
    "\"student 2\" : [\"Mapece\", \"Ngembezi\", \"MN85\", 40],\n",
    "\"student 3\" :[\"NKunku\", \"Naartjie\", \"NN95\", 30],\n",
    "\"student 4\" : [\"Amen\", \"Bethlehem\", \"AB94\", 31]\n",
    "\n",
    "\n",
    "}\"\"\"\n",
    "cnlc = json.loads(failed_students)\n",
    "\n",
    "f = pd.DataFrame.from_dict(cnlc, orient= \"index\", columns= ['Name', 'Surname','Id', 'Age' ])\n",
    "f\n",
    "\n",
    "\n"
   ]
  }
 ],
 "metadata": {
  "kernelspec": {
   "display_name": "Python 3",
   "language": "python",
   "name": "python3"
  },
  "language_info": {
   "codemirror_mode": {
    "name": "ipython",
    "version": 3
   },
   "file_extension": ".py",
   "mimetype": "text/x-python",
   "name": "python",
   "nbconvert_exporter": "python",
   "pygments_lexer": "ipython3",
   "version": "3.12.7"
  }
 },
 "nbformat": 4,
 "nbformat_minor": 2
}
