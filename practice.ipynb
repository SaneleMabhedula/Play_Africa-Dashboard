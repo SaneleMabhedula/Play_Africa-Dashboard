{
 "cells": [
  {
   "cell_type": "code",
   "execution_count": 10,
   "metadata": {},
   "outputs": [
    {
     "name": "stdout",
     "output_type": "stream",
     "text": [
      "{\"Student_ID\": 22122018, \"Name\": \"Sanele\", \"Age\": 23, \"Height_cm\": 65.33, \"Mass_kg\": 52.23, \"Subjects\": [\"Math\", \"Science\", \"English\"], \"Graduated\": false}\n"
     ]
    }
   ],
   "source": [
    "import json\n",
    "\n",
    "student = {\n",
    "    \"Student_ID\": 22122018,\n",
    "    \"Name\": \"Sanele\",\n",
    "    \"Age\": 23,\n",
    "    \"Height_cm\": 65.33,\n",
    "    \"Mass_kg\": 52.23,\n",
    "    \"Subjects\": [\"Math\", \"Science\", \"English\"],\n",
    "    \"Graduated\": False\n",
    "}\n",
    "\n",
    "df1 = json.dumps(student) \n",
    "print(df1)\n"
   ]
  },
  {
   "cell_type": "code",
   "execution_count": 3,
   "metadata": {},
   "outputs": [],
   "source": [
    "with open(\"student.json\", \"w\") as file:\n",
    "    json.dump(\"student.json\", file)"
   ]
  },
  {
   "cell_type": "code",
   "execution_count": 9,
   "metadata": {},
   "outputs": [
    {
     "name": "stdout",
     "output_type": "stream",
     "text": [
      "student.json\n"
     ]
    }
   ],
   "source": [
    "with open(\"student.json\", \"r\") as file:\n",
    "    df = json.load(file)\n",
    "    print(df)\n"
   ]
  },
  {
   "cell_type": "code",
   "execution_count": 11,
   "metadata": {},
   "outputs": [
    {
     "data": {
      "text/plain": [
       "{'Student_ID': 22122018,\n",
       " 'Name': 'Sanele',\n",
       " 'Age': 23,\n",
       " 'Height_cm': 65.33,\n",
       " 'Mass_kg': 52.23,\n",
       " 'Subjects': ['Math', 'Science', 'English'],\n",
       " 'Graduated': False}"
      ]
     },
     "execution_count": 11,
     "metadata": {},
     "output_type": "execute_result"
    }
   ],
   "source": [
    "df2 = json.loads(df1)\n",
    "df2"
   ]
  },
  {
   "cell_type": "code",
   "execution_count": null,
   "metadata": {},
   "outputs": [],
   "source": [
    "data = {\n",
    "    \"name\" : [\"baboon\", \"monkey\", \"Donkey\"],\n",
    "    \"role\" : [\"banana\", \"banana\", \"grass\"]\n",
    "}\n",
    "\n",
    "data"
   ]
  }
 ],
 "metadata": {
  "kernelspec": {
   "display_name": "Python 3",
   "language": "python",
   "name": "python3"
  },
  "language_info": {
   "codemirror_mode": {
    "name": "ipython",
    "version": 3
   },
   "file_extension": ".py",
   "mimetype": "text/x-python",
   "name": "python",
   "nbconvert_exporter": "python",
   "pygments_lexer": "ipython3",
   "version": "3.12.7"
  }
 },
 "nbformat": 4,
 "nbformat_minor": 2
}
